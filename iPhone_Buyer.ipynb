{
  "nbformat": 4,
  "nbformat_minor": 0,
  "metadata": {
    "colab": {
      "provenance": [],
      "authorship_tag": "ABX9TyOMSWZ/FObiDrvNtL81pPtK",
      "include_colab_link": true
    },
    "kernelspec": {
      "name": "python3",
      "display_name": "Python 3"
    },
    "language_info": {
      "name": "python"
    }
  },
  "cells": [
    {
      "cell_type": "markdown",
      "metadata": {
        "id": "view-in-github",
        "colab_type": "text"
      },
      "source": [
        "<a href=\"https://colab.research.google.com/github/vidyasrigr/ML-Models/blob/main/iPhone_Buyer.ipynb\" target=\"_parent\"><img src=\"https://colab.research.google.com/assets/colab-badge.svg\" alt=\"Open In Colab\"/></a>"
      ]
    },
    {
      "cell_type": "code",
      "execution_count": 33,
      "metadata": {
        "id": "9JppRQg0T63-"
      },
      "outputs": [],
      "source": [
        "import pandas as pd\n",
        "import numpy as np\n",
        "from sklearn.preprocessing import LabelEncoder\n",
        "from sklearn.preprocessing import StandardScaler\n",
        "from sklearn.model_selection import train_test_split\n",
        "from sklearn.linear_model import LogisticRegression\n",
        "from sklearn import metrics\n"
      ]
    },
    {
      "cell_type": "code",
      "source": [
        "dataset = pd.read_csv('iPhone Purchase Record.csv')\n",
        "X = dataset.iloc[:,:-1].values\n",
        "y = dataset.iloc[:,3].values"
      ],
      "metadata": {
        "id": "YJXiD56bUAiR"
      },
      "execution_count": 34,
      "outputs": []
    },
    {
      "cell_type": "code",
      "source": [
        "genderLabelEncoder = LabelEncoder()\n",
        "X[:,0] = genderLabelEncoder.fit_transform(X[:,0])\n",
        "X = np.vstack(X[:,:]).astype(float)"
      ],
      "metadata": {
        "id": "42ISlVo2VntW"
      },
      "execution_count": 35,
      "outputs": []
    },
    {
      "cell_type": "code",
      "source": [
        "Xtrain, Xtest, ytrain, ytest = train_test_split(X, y, test_size = 0.15, random_state = 0)"
      ],
      "metadata": {
        "id": "gbRNU8BLWlBB"
      },
      "execution_count": 36,
      "outputs": []
    },
    {
      "cell_type": "code",
      "source": [
        "sc = StandardScaler()\n",
        "Xtrain = sc.fit_transform(Xtrain)\n",
        "Xtest = sc.transform(Xtest)"
      ],
      "metadata": {
        "id": "u7iE-9j2XK3r"
      },
      "execution_count": 37,
      "outputs": []
    },
    {
      "cell_type": "code",
      "source": [
        "classifier = LogisticRegression(random_state = 0, solver = 'liblinear')\n",
        "classifier.fit(Xtrain, ytrain)"
      ],
      "metadata": {
        "colab": {
          "base_uri": "https://localhost:8080/"
        },
        "id": "oHL6N56DXndF",
        "outputId": "f7997e11-5937-490e-aa88-f747306562ff"
      },
      "execution_count": 38,
      "outputs": [
        {
          "output_type": "execute_result",
          "data": {
            "text/plain": [
              "LogisticRegression(random_state=0, solver='liblinear')"
            ]
          },
          "metadata": {},
          "execution_count": 38
        }
      ]
    },
    {
      "cell_type": "code",
      "source": [
        "yPred = classifier.predict(Xtest)"
      ],
      "metadata": {
        "id": "03xmAAQuX6VV"
      },
      "execution_count": 39,
      "outputs": []
    },
    {
      "cell_type": "code",
      "source": [
        "cm = metrics.confusion_matrix(ytest, yPred)\n",
        "print(cm)\n",
        "accuracy = metrics.accuracy_score(ytest, yPred)\n",
        "print('Accuracy Score: ', accuracy)\n",
        "precision = metrics.precision_score(ytest, yPred)\n",
        "print('Precision Score: ', precision)\n",
        "recall = metrics.recall_score(ytest, yPred)\n",
        "print('Recall Score: ', recall)"
      ],
      "metadata": {
        "colab": {
          "base_uri": "https://localhost:8080/"
        },
        "id": "LKoNkjR9YFYe",
        "outputId": "a4232db6-9cd3-43a6-fcb0-e3cd54e297d6"
      },
      "execution_count": 40,
      "outputs": [
        {
          "output_type": "stream",
          "name": "stdout",
          "text": [
            "[[44  1]\n",
            " [ 2 13]]\n",
            "Accuracy Score:  0.95\n",
            "Precision Score:  0.9285714285714286\n",
            "Recall Score:  0.8666666666666667\n"
          ]
        }
      ]
    }
  ]
}